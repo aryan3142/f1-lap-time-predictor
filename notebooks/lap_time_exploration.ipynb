{
 "cells": [
  {
   "cell_type": "code",
   "execution_count": null,
   "id": "fef0003e",
   "metadata": {},
   "outputs": [],
   "source": [
    "from sklearn.metrics import mean_absolute_error\n",
    "import matplotlib.pyplot as plt\n",
    "import seaborn as sns\n",
    "\n",
    "from src import model\n",
    "\n",
    "# Predict and compare\n",
    "y_pred = model.predict(X_test)\n",
    "\n",
    "plt.figure(figsize=(8,6))\n",
    "sns.scatterplot(x=y_test, y=y_pred)\n",
    "plt.xlabel(\"Actual Lap Time (s)\")\n",
    "plt.ylabel(\"Predicted Lap Time (s)\")\n",
    "plt.title(\"Actual vs Predicted Lap Times\")"
   ]
  }
 ],
 "metadata": {
  "language_info": {
   "name": "python"
  }
 },
 "nbformat": 4,
 "nbformat_minor": 5
}
